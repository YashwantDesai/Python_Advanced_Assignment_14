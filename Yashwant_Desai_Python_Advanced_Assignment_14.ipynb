{
 "cells": [
  {
   "cell_type": "markdown",
   "id": "0c27a818",
   "metadata": {},
   "source": [
    "# Yashwant Desai –  Python_Advanced_Assignment_14"
   ]
  },
  {
   "cell_type": "markdown",
   "id": "d83d0176",
   "metadata": {},
   "source": [
    "# Q1. Is an assignment operator like += only for show? Is it possible that it would lead to faster results at the runtime?"
   ]
  },
  {
   "cell_type": "markdown",
   "id": "305dd759",
   "metadata": {},
   "source": [
    "An operator += is not just for show. += operator can lead to faster result. += operator has practical benefits in terms of performance and memory usage when working with mutable objects like lists, sets, and dictionaries."
   ]
  },
  {
   "cell_type": "code",
   "execution_count": 1,
   "id": "21e8afb0",
   "metadata": {},
   "outputs": [
    {
     "name": "stdout",
     "output_type": "stream",
     "text": [
      "96\n"
     ]
    }
   ],
   "source": [
    "x = 8\n",
    "x += 88\n",
    "\n",
    "print(x)"
   ]
  },
  {
   "cell_type": "markdown",
   "id": "5f89f351",
   "metadata": {},
   "source": [
    "# Q2. What is the smallest number of statements you'd have to write in most programming languages to replace the Python expression a, b = a + b, a?"
   ]
  },
  {
   "cell_type": "markdown",
   "id": "c065dde3",
   "metadata": {},
   "source": [
    "Below are examples to replace the python expression in most programming languages\n",
    "\n",
    "----------------------------------------\n",
    "C++\n",
    "std::tie(a, b) = std::make_tuple(a + b, a);\n",
    "\n",
    "-----------------------------------------\n",
    "C#\n",
    "(a, b) = (a + b, a);\n",
    "\n",
    "-----------------------------------------\n",
    "\n",
    "JavaScript \n",
    "\n",
    "[a, b] = [a + b, a];\n",
    "\n",
    "------------------------------------------\n",
    "\n"
   ]
  },
  {
   "cell_type": "markdown",
   "id": "b51ef4e0",
   "metadata": {},
   "source": [
    "# Q3. In Python, what is the most effective way to set a list of 100 integers to 0?"
   ]
  },
  {
   "cell_type": "markdown",
   "id": "eb55f368",
   "metadata": {},
   "source": [
    "In Python, the most effective way to set a list of 100 integers to 0 is to use a list comprehension or multiplication with a list of a single integer. Below is an example."
   ]
  },
  {
   "cell_type": "code",
   "execution_count": 2,
   "id": "6c7b683d",
   "metadata": {},
   "outputs": [],
   "source": [
    "user_list = [0] * 100"
   ]
  },
  {
   "cell_type": "code",
   "execution_count": 3,
   "id": "c91da11c",
   "metadata": {},
   "outputs": [
    {
     "name": "stdout",
     "output_type": "stream",
     "text": [
      "[0, 0, 0, 0, 0, 0, 0, 0, 0, 0, 0, 0, 0, 0, 0, 0, 0, 0, 0, 0, 0, 0, 0, 0, 0, 0, 0, 0, 0, 0, 0, 0, 0, 0, 0, 0, 0, 0, 0, 0, 0, 0, 0, 0, 0, 0, 0, 0, 0, 0, 0, 0, 0, 0, 0, 0, 0, 0, 0, 0, 0, 0, 0, 0, 0, 0, 0, 0, 0, 0, 0, 0, 0, 0, 0, 0, 0, 0, 0, 0, 0, 0, 0, 0, 0, 0, 0, 0, 0, 0, 0, 0, 0, 0, 0, 0, 0, 0, 0, 0]\n"
     ]
    }
   ],
   "source": [
    "print(user_list)"
   ]
  },
  {
   "cell_type": "code",
   "execution_count": 4,
   "id": "de647674",
   "metadata": {},
   "outputs": [],
   "source": [
    "user_list = []\n",
    "for _ in range(100):\n",
    "    user_list.append(0)"
   ]
  },
  {
   "cell_type": "code",
   "execution_count": 5,
   "id": "99c204f3",
   "metadata": {
    "scrolled": true
   },
   "outputs": [
    {
     "name": "stdout",
     "output_type": "stream",
     "text": [
      "[0, 0, 0, 0, 0, 0, 0, 0, 0, 0, 0, 0, 0, 0, 0, 0, 0, 0, 0, 0, 0, 0, 0, 0, 0, 0, 0, 0, 0, 0, 0, 0, 0, 0, 0, 0, 0, 0, 0, 0, 0, 0, 0, 0, 0, 0, 0, 0, 0, 0, 0, 0, 0, 0, 0, 0, 0, 0, 0, 0, 0, 0, 0, 0, 0, 0, 0, 0, 0, 0, 0, 0, 0, 0, 0, 0, 0, 0, 0, 0, 0, 0, 0, 0, 0, 0, 0, 0, 0, 0, 0, 0, 0, 0, 0, 0, 0, 0, 0, 0]\n"
     ]
    }
   ],
   "source": [
    "print(user_list)"
   ]
  },
  {
   "cell_type": "markdown",
   "id": "6781d3b3",
   "metadata": {},
   "source": [
    "# Q4. What is the most effective way to initialise a list of 99 integers that repeats the sequence 1, 2, 3? S If necessary, show step-by-step instructions on how to accomplish this."
   ]
  },
  {
   "cell_type": "markdown",
   "id": "c2f65c24",
   "metadata": {},
   "source": [
    "The most effective way to initialize a list of 99 integers that repeats the sequence 1,2,3 is to use list comprehension."
   ]
  },
  {
   "cell_type": "markdown",
   "id": "6c86e73a",
   "metadata": {},
   "source": [
    "The most effective way to initialize a list of 99 integers that repeats the sequence 1, 2, 3 in Python is to use list comprehension. \n",
    "Below are steps\n",
    "\n",
    "1 define the sequence \n",
    "2 use list comprehension to repeat this sequence 33 times (99/3 = 33)\n",
    "\n",
    "Example\n",
    "user_list = [1, 2, 3] * 33\n",
    "\n",
    "As per above example the sequence will repeat by 33 times"
   ]
  },
  {
   "cell_type": "code",
   "execution_count": 9,
   "id": "d78183db",
   "metadata": {},
   "outputs": [
    {
     "name": "stdout",
     "output_type": "stream",
     "text": [
      "[1, 2, 3, 1, 2, 3, 1, 2, 3, 1, 2, 3, 1, 2, 3, 1, 2, 3, 1, 2, 3, 1, 2, 3, 1, 2, 3, 1, 2, 3, 1, 2, 3, 1, 2, 3, 1, 2, 3, 1, 2, 3, 1, 2, 3, 1, 2, 3, 1, 2, 3, 1, 2, 3, 1, 2, 3, 1, 2, 3, 1, 2, 3, 1, 2, 3, 1, 2, 3, 1, 2, 3, 1, 2, 3, 1, 2, 3, 1, 2, 3, 1, 2, 3, 1, 2, 3, 1, 2, 3, 1, 2, 3, 1, 2, 3, 1, 2, 3]\n"
     ]
    }
   ],
   "source": [
    "user_list = [1, 2, 3] * 33\n",
    "print(user_list)"
   ]
  },
  {
   "cell_type": "markdown",
   "id": "197a74a5",
   "metadata": {},
   "source": [
    "# Q5. If you're using IDLE to run a Python application, explain how to print a multidimensional list as efficiently?"
   ]
  },
  {
   "cell_type": "markdown",
   "id": "808f8987",
   "metadata": {},
   "source": [
    "In IDLE we can efficiently print a multidimensional list by using a loop to iterate through the rows and columns of the list and printing each element. Here's a step-by-step explanation of how to do this.\n",
    "\n",
    "1. First, create your multidimensional list.\n",
    "\n",
    "2. Next, use nested loops to iterate through the rows and columns of the list. You can use a for loop to iterate through the rows and another for loop to iterate through the elements within each row."
   ]
  },
  {
   "cell_type": "code",
   "execution_count": 23,
   "id": "7dfda35a",
   "metadata": {},
   "outputs": [
    {
     "name": "stdout",
     "output_type": "stream",
     "text": [
      "1 2 3 \n",
      "4 5 6 \n",
      "7 8 9 \n"
     ]
    }
   ],
   "source": [
    "my_list = [\n",
    "    [1, 2, 3],\n",
    "    [4, 5, 6],\n",
    "    [7, 8, 9]\n",
    "]\n",
    "for row in my_list:\n",
    "    for element in row:\n",
    "        print(element, end=' ')  \n",
    "    print()"
   ]
  },
  {
   "cell_type": "markdown",
   "id": "c10d1389",
   "metadata": {},
   "source": [
    "# Q6. Is it possible to use list comprehension with a string? If so, how can you go about doing it?"
   ]
  },
  {
   "cell_type": "markdown",
   "id": "a255afb2",
   "metadata": {},
   "source": [
    "Yes we can use list comprehension with strings by applying an expression to each item in an iterable, and it can be used with strings as well. Here's how we can use list comprehension with strings.\n",
    "\n",
    "1. Create a list of individual characters from a string by using list comprehension.\n",
    "\n",
    "2. We can use list comprehension to filter characters based on a condition.\n",
    "\n",
    "3. We can also modify characters in a string using list comprehension. "
   ]
  },
  {
   "cell_type": "code",
   "execution_count": 10,
   "id": "95130a3c",
   "metadata": {},
   "outputs": [
    {
     "name": "stdout",
     "output_type": "stream",
     "text": [
      "['H', 'e', 'l', 'l', 'o', ',', ' ', 'W', 'o', 'r', 'l', 'd', '!']\n"
     ]
    }
   ],
   "source": [
    "my_string = \"Hello, World!\"\n",
    "char_list = [char for char in my_string]\n",
    "print(char_list)"
   ]
  },
  {
   "cell_type": "code",
   "execution_count": 11,
   "id": "d3f32716",
   "metadata": {},
   "outputs": [
    {
     "name": "stdout",
     "output_type": "stream",
     "text": [
      "['e', 'o', 'o']\n"
     ]
    }
   ],
   "source": [
    "my_string = \"Hello, World!\"\n",
    "vowels = [char for char in my_string if char in 'AEIOUaeiou']\n",
    "print(vowels)"
   ]
  },
  {
   "cell_type": "code",
   "execution_count": 12,
   "id": "719c72be",
   "metadata": {},
   "outputs": [
    {
     "name": "stdout",
     "output_type": "stream",
     "text": [
      "HELLO, WORLD!\n"
     ]
    }
   ],
   "source": [
    "my_string = \"Hello, World!\"\n",
    "modified_string = ''.join([char.upper() if char.islower() else char for char in my_string])\n",
    "print(modified_string)"
   ]
  },
  {
   "cell_type": "markdown",
   "id": "6955af96",
   "metadata": {},
   "source": [
    "# Q7. From the command line, how do you get support with a user-written Python programme? Is this possible from inside IDLE?"
   ]
  },
  {
   "cell_type": "markdown",
   "id": "3acd20a5",
   "metadata": {},
   "source": [
    "Use the help() function in the Python interactive shell to get information about Python functions and modules.\n",
    "\n",
    "We can search for answers online on websites like Stack Overflow or read tutorials and documentation.\n",
    "\n",
    "We can get support inside IDLE\n",
    "\n",
    "We can get interactive help using the help() function.\n",
    "\n",
    "We can ue the IDLE debugger to find and fix issues in code.\n",
    "\n",
    "We can explore Python's documentation and helpful websites from the IDLE Help menu."
   ]
  },
  {
   "cell_type": "markdown",
   "id": "f38247f7",
   "metadata": {},
   "source": [
    "# Q8. Functions are said to be “first-class objects” in Python but not in most other languages, such as C++ or Java. What can you do in Python with a function (callable object) that you can't do in C or C++?"
   ]
  },
  {
   "cell_type": "markdown",
   "id": "131205a9",
   "metadata": {},
   "source": [
    "In Python, functions are considered \"first-class objects,\" which means they have some unique properties and capabilities that set them apart from languages like C++ or Java.\n",
    "\n",
    "We can do following functions in python but can not do in C or C++\n",
    "\n",
    "We can assign functions to variables\n",
    "\n",
    "We can pass functions as arguments\n",
    "\n",
    "We can return functions from functions\n",
    "\n",
    "We can create anonymous functions (lambdas)\n",
    "\n",
    "We can store functions in data structures\n",
    "\n",
    "We can use decorators\n",
    "\n"
   ]
  },
  {
   "cell_type": "markdown",
   "id": "2b92151e",
   "metadata": {},
   "source": [
    "# Q9. How do you distinguish between a wrapper, a wrapped feature, and a decorator?"
   ]
  },
  {
   "cell_type": "markdown",
   "id": "bfcde4ea",
   "metadata": {},
   "source": [
    "We can distinguish a wrapper, a wrapped feature and a decorator as per below\n",
    "\n",
    "Wrapper - A function or code that surrounds and adds functionality around another function or feature.\n",
    "\n",
    "Wrapped Feature - The original function or feature that you want to modify or extend.\n",
    "\n",
    "Decorator - A function that takes another function (the wrapped feature) and modifies its behavior using a wrapper function.\n"
   ]
  },
  {
   "cell_type": "markdown",
   "id": "df838589",
   "metadata": {},
   "source": [
    "# Q10. If a function is a generator function, what does it return?"
   ]
  },
  {
   "cell_type": "markdown",
   "id": "3e2d017e",
   "metadata": {},
   "source": [
    "if a function is a generator function in Python, it returns an iterator that allows you to get one value at a time by using a loop or other methods. Instead of returning a final result immediately, it yields values as you request them. The yield keyword is used to produce these values one by one."
   ]
  },
  {
   "cell_type": "markdown",
   "id": "76c8b76e",
   "metadata": {},
   "source": [
    "# Q11. What is the one improvement that must be made to a function in order for it to become a generator function in the Python language?"
   ]
  },
  {
   "cell_type": "markdown",
   "id": "53eba3b3",
   "metadata": {},
   "source": [
    "To turn a regular function into a generator function in Python, you only need to add the word yield at least once in the function. This tells Python to return values one at a time when you call the function. It's the \"yield\" keyword that makes a function a generator"
   ]
  },
  {
   "cell_type": "markdown",
   "id": "38418d7b",
   "metadata": {},
   "source": [
    "# Q12. Identify at least one benefit of generators."
   ]
  },
  {
   "cell_type": "markdown",
   "id": "c9f68f2a",
   "metadata": {},
   "source": [
    "One major benefit of using generators in Python is that they can help conserve memory and improve efficiency.\n",
    "\n",
    "Generators in Python are a way to create and work with sequences of data more efficiently and with less memory. They allow you to process large sets of data one piece at a time, making your code easier to read and saving resources. Generators are especially useful when dealing with big data or when you don't need all the data at once."
   ]
  },
  {
   "cell_type": "markdown",
   "id": "a04469f9",
   "metadata": {},
   "source": [
    "# Done Regards,Yashwant"
   ]
  }
 ],
 "metadata": {
  "kernelspec": {
   "display_name": "Python 3 (ipykernel)",
   "language": "python",
   "name": "python3"
  },
  "language_info": {
   "codemirror_mode": {
    "name": "ipython",
    "version": 3
   },
   "file_extension": ".py",
   "mimetype": "text/x-python",
   "name": "python",
   "nbconvert_exporter": "python",
   "pygments_lexer": "ipython3",
   "version": "3.9.13"
  }
 },
 "nbformat": 4,
 "nbformat_minor": 5
}
